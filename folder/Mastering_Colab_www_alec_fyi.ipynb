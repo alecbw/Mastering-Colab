{
  "nbformat": 4,
  "nbformat_minor": 0,
  "metadata": {
    "colab": {
      "name": "Mastering Colab - www.alec.fyi.ipynb",
      "provenance": [],
      "private_outputs": true,
      "collapsed_sections": [],
      "authorship_tag": "ABX9TyOIxW3k6U9p8N+r71sZe5UX",
      "include_colab_link": true
    },
    "kernelspec": {
      "name": "python3",
      "display_name": "Python 3"
    }
  },
  "cells": [
    {
      "cell_type": "markdown",
      "metadata": {
        "id": "view-in-github",
        "colab_type": "text"
      },
      "source": [
        "<a href=\"https://colab.research.google.com/github/alecbw/Mastering-Colab/blob/master/folder/Mastering_Colab_www_alec_fyi.ipynb\" target=\"_parent\"><img src=\"https://colab.research.google.com/assets/colab-badge.svg\" alt=\"Open In Colab\"/></a>"
      ]
    },
    {
      "cell_type": "markdown",
      "metadata": {
        "id": "BfhdVHB4-pfP",
        "colab_type": "text"
      },
      "source": [
        "\\#1 - Magic Commands"
      ]
    },
    {
      "cell_type": "code",
      "metadata": {
        "id": "RUe9UtVeyalY",
        "colab_type": "code",
        "colab": {}
      },
      "source": [
        "%env SECRET=1234567890\n",
        "!pip install googleauth\n",
        "!pip list\n",
        "!dir"
      ],
      "execution_count": 0,
      "outputs": []
    },
    {
      "cell_type": "markdown",
      "metadata": {
        "colab_type": "text",
        "id": "oE4EICTt-uQS"
      },
      "source": [
        "\\#2 - GDrive File I/O - Mount a .py file as a library"
      ]
    },
    {
      "cell_type": "code",
      "metadata": {
        "id": "YLm06BQazSZm",
        "colab_type": "code",
        "colab": {}
      },
      "source": [
        "from os.path import join\n",
        "from google.colab import drive\n",
        "from importlib.machinery import SourceFileLoader\n",
        "\n",
        "ROOT = \"/content/drive\"\n",
        "PROJ = \"My Drive/Colab Notebooks\" # Where your Colab Notebooks should be\n",
        "\n",
        "drive.mount(ROOT, force_remount=False)\n",
        "util = SourceFileLoader('util', join(ROOT, PROJ, 'utility/util.py')).load_module()\n",
        "from util import some_function"
      ],
      "execution_count": 0,
      "outputs": []
    },
    {
      "cell_type": "markdown",
      "metadata": {
        "colab_type": "text",
        "id": "zuaAkvn8-xop"
      },
      "source": [
        "\\#2 - GDrive File I/O - read CSV from Google Drive"
      ]
    },
    {
      "cell_type": "code",
      "metadata": {
        "id": "S2iYgnKs1qjy",
        "colab_type": "code",
        "colab": {}
      },
      "source": [
        "import pandas as pd\n",
        "df = pd.read_csv(join(ROOT, \"My Drive\", \"Some_Spreadsheet.csv\"))"
      ],
      "execution_count": 0,
      "outputs": []
    },
    {
      "cell_type": "markdown",
      "metadata": {
        "colab_type": "text",
        "id": "rWvqcjnu-yHI"
      },
      "source": [
        "\\#2 - GDrive File I/O - write .txt to Google Drive"
      ]
    },
    {
      "cell_type": "code",
      "metadata": {
        "id": "In8rMRMk2pPw",
        "colab_type": "code",
        "colab": {}
      },
      "source": [
        "with open(join(ROOT, \"My Drive\",\"text_file.txt\"), \"w\") as file:\n",
        "    file.write(\"foo bar baz\")"
      ],
      "execution_count": 0,
      "outputs": []
    },
    {
      "cell_type": "markdown",
      "metadata": {
        "id": "RLnwbOqx_2Q5",
        "colab_type": "text"
      },
      "source": [
        "\\#3 - Google Sheets reads/writes"
      ]
    },
    {
      "cell_type": "code",
      "metadata": {
        "id": "Vn_B2Uud_2I2",
        "colab_type": "code",
        "colab": {}
      },
      "source": [
        "from google.colab import auth\n",
        "from oauth2client.client import GoogleCredentials\n",
        "import gspread\n",
        "import gspread_dataframe as gd\n",
        "import pandas as pd\n",
        "\n",
        "def get_gsheet_tab(sh, tab_name, **kwargs):\n",
        "    if isinstance(tab_name, int):  # index\n",
        "        tab = sh.get_worksheet(tab_name)\n",
        "    elif isinstance(tab_name, str):\n",
        "        tab = sh.worksheet(tab_name)\n",
        "\n",
        "    # This avoids a specific bug around the tab being empty\n",
        "    try:\n",
        "      tab_lod = tab.get_all_records(default_blank=None)\n",
        "    except IndexError:\n",
        "      tab_lod = []\n",
        "\n",
        "    return tab_lod, tab\n",
        "\n",
        "def get_gsheet_sheet(sheet_name):\n",
        "    auth.authenticate_user()\n",
        "    gc = gspread.authorize(GoogleCredentials.get_application_default())\n",
        "\n",
        "    if 'docs.google.com' in sheet_name:\n",
        "        sh = gc.open_by_url(sheet_name)\n",
        "    elif len(sheet_name) == 44:\n",
        "        sh = gc.open_by_key(sheet_name)\n",
        "    else: # File name\n",
        "        sh = gc.open(sheet_name)\n",
        "    return sh\n",
        "\n",
        "\n",
        "def write_to_gsheet(df_to_write, sheet_name, tab_name):\n",
        "    sh = get_gsheet_sheet(sheet_name)\n",
        "    tab_lod, ws = get_gsheet_tab(sh, tab_name)\n",
        "    gd.set_with_dataframe(ws, df_to_write)\n",
        "    print(\"Written successfully\")\n",
        "\n",
        "\n",
        "def read_from_gsheet(sheet_name, tab_name):\n",
        "    sh = get_gsheet_sheet(sheet_name)\n",
        "    tab_lod, ws = get_gsheet_tab(sh, tab_name)\n",
        "    return tab_lod\n",
        "\n",
        "\n",
        "# df = pd.read_json(input_file, orient=\"records\")  # JSON\n",
        "# df = pd.DataFrame(input_file)  # list of dicts or list of lists\n",
        "# df = pd.DataFrame.from_dict(input_file)  # dict with list values"
      ],
      "execution_count": 0,
      "outputs": []
    },
    {
      "cell_type": "markdown",
      "metadata": {
        "colab_type": "text",
        "id": "_SNzbcIE-ydW"
      },
      "source": [
        "\\#4 - Forms"
      ]
    },
    {
      "cell_type": "code",
      "metadata": {
        "id": "2KT7mCjS82mi",
        "colab_type": "code",
        "cellView": "form",
        "colab": {}
      },
      "source": [
        "\n",
        "dropdown = '1st option' #@param [\"1st option\", \"2nd option\", \"3rd option\"]\n",
        "\n",
        "text_and_dropdown = 'value' #@param [\"1st option\", \"2nd option\", \"3rd option\"] {allow-input: true}\n",
        "\n",
        "raw_input = None #@param {type:\"raw\"}\n",
        "\n",
        "raw_dropdown = raw_input #@param [1, \"raw_input\", \"False\", \"'string'\"] {type:\"raw\"}\n",
        "\n",
        "date_input = '2018-03-22' #@param {type:\"date\"}\n",
        "\n",
        "number_input = 10.0 #@param {type:\"number\"}\n",
        "\n",
        "number_slider = 0 #@param {type:\"slider\", min:-1, max:1, step:0.1}\n",
        "\n",
        "integer_input = 10 #@param {type:\"integer\"}\n",
        "\n",
        "integer_slider = 1 #@param {type:\"slider\", min:0, max:100, step:1}\n",
        "\n",
        "boolean_checkbox = True #@param {type:\"boolean\"}\n",
        "\n",
        "boolean_dropdown = True #@param [\"False\", \"True\"] {type:\"raw\"}"
      ],
      "execution_count": 0,
      "outputs": []
    }
  ]
}
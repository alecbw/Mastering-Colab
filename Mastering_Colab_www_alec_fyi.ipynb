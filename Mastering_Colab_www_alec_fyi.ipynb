{
  "nbformat": 4,
  "nbformat_minor": 0,
  "metadata": {
    "colab": {
      "name": "Mastering Colab - www.alec.fyi.ipynb",
      "provenance": [],
      "private_outputs": true,
      "collapsed_sections": [],
      "authorship_tag": "ABX9TyOrqdLkeXE++L+kqVkm/i9y",
      "include_colab_link": true
    },
    "kernelspec": {
      "name": "python3",
      "display_name": "Python 3"
    }
  },
  "cells": [
    {
      "cell_type": "markdown",
      "metadata": {
        "id": "view-in-github",
        "colab_type": "text"
      },
      "source": [
        "<a href=\"https://colab.research.google.com/github/alecbw/Mastering-Colab/blob/master/Mastering_Colab_www_alec_fyi.ipynb\" target=\"_parent\"><img src=\"https://colab.research.google.com/assets/colab-badge.svg\" alt=\"Open In Colab\"/></a>"
      ]
    },
    {
      "cell_type": "code",
      "metadata": {
        "id": "RUe9UtVeyalY",
        "colab_type": "code",
        "colab": {}
      },
      "source": [
        "%env SECRET=1234567890\n",
        "!dir"
      ],
      "execution_count": 0,
      "outputs": []
    },
    {
      "cell_type": "code",
      "metadata": {
        "id": "YLm06BQazSZm",
        "colab_type": "code",
        "colab": {}
      },
      "source": [
        "from os.path import join\n",
        "from google.colab import drive\n",
        "from importlib.machinery import SourceFileLoader\n",
        "\n",
        "ROOT = \"/content/drive\"\n",
        "PROJ = \"My Drive/Colab Notebooks\" # Where your Colab Notebooks should be\n",
        "\n",
        "drive.mount(ROOT, force_remount=True)\n",
        "util = SourceFileLoader('util', join(ROOT, PROJ, 'utility/util.py')).load_module()\n",
        "from util import some_function"
      ],
      "execution_count": 0,
      "outputs": []
    },
    {
      "cell_type": "code",
      "metadata": {
        "id": "S2iYgnKs1qjy",
        "colab_type": "code",
        "colab": {}
      },
      "source": [
        "import pandas as pd\n",
        "df = pd.read_csv(join(ROOT, \"My Drive\", \"Some_Spreadsheet.csv\"))"
      ],
      "execution_count": 0,
      "outputs": []
    },
    {
      "cell_type": "code",
      "metadata": {
        "id": "In8rMRMk2pPw",
        "colab_type": "code",
        "colab": {}
      },
      "source": [
        "with open(join(ROOT, \"My Drive\",\"text_file.txt\"), \"w\") as file:\n",
        "    file.write(\"foo bar baz\")"
      ],
      "execution_count": 0,
      "outputs": []
    },
    {
      "cell_type": "code",
      "metadata": {
        "id": "2KT7mCjS82mi",
        "colab_type": "code",
        "cellView": "form",
        "colab": {}
      },
      "source": [
        "\n",
        "dropdown = '1st option' #@param [\"1st option\", \"2nd option\", \"3rd option\"]\n",
        "\n",
        "text_and_dropdown = 'value' #@param [\"1st option\", \"2nd option\", \"3rd option\"] {allow-input: true}\n",
        "\n",
        "raw_input = None #@param {type:\"raw\"}\n",
        "\n",
        "raw_dropdown = raw_input #@param [1, \"raw_input\", \"False\", \"'string'\"] {type:\"raw\"}\n",
        "\n",
        "date_input = '2018-03-22' #@param {type:\"date\"}\n",
        "\n",
        "number_input = 10.0 #@param {type:\"number\"}\n",
        "\n",
        "number_slider = 0 #@param {type:\"slider\", min:-1, max:1, step:0.1}\n",
        "\n",
        "integer_input = 10 #@param {type:\"integer\"}\n",
        "\n",
        "integer_slider = 1 #@param {type:\"slider\", min:0, max:100, step:1}\n",
        "\n",
        "boolean_checkbox = True #@param {type:\"boolean\"}\n",
        "\n",
        "boolean_dropdown = True #@param [\"False\", \"True\"] {type:\"raw\"}"
      ],
      "execution_count": 0,
      "outputs": []
    }
  ]
}